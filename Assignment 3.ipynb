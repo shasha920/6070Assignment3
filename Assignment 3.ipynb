{
 "cells": [
  {
   "cell_type": "markdown",
   "metadata": {},
   "source": [
    "# GBA 6070 - Programming Foundation for Business Analytics\n",
    "# Dr. Mohammad Salehan\n",
    "# Assignment 3: Conditional Statements"
   ]
  },
  {
   "cell_type": "markdown",
   "metadata": {},
   "source": [
    "1. Write a function that returns the maximum of 2 numbers. Do not use the built-in max function."
   ]
  },
  {
   "cell_type": "code",
   "execution_count": 29,
   "metadata": {},
   "outputs": [
    {
     "data": {
      "text/plain": [
       "-3"
      ]
     },
     "execution_count": 29,
     "metadata": {},
     "output_type": "execute_result"
    }
   ],
   "source": [
    "def maximum(a,b):\n",
    "    if a>=b:\n",
    "        return a\n",
    "    else:\n",
    "        return b\n",
    "    \n",
    "maximum(2,4)    \n",
    "maximum(-3,-5)"
   ]
  },
  {
   "cell_type": "markdown",
   "metadata": {},
   "source": [
    "2. Write a function that returns absolute value of a number using conditional statements."
   ]
  },
  {
   "cell_type": "code",
   "execution_count": 30,
   "metadata": {},
   "outputs": [
    {
     "data": {
      "text/plain": [
       "2"
      ]
     },
     "execution_count": 30,
     "metadata": {},
     "output_type": "execute_result"
    }
   ],
   "source": [
    "def abs_value(a):\n",
    "    if a>=0:\n",
    "        return a\n",
    "    else:\n",
    "        return a*-1\n",
    "    \n",
    "abs_value(2)\n",
    "abs_value(-2)"
   ]
  },
  {
   "cell_type": "markdown",
   "metadata": {},
   "source": [
    "3. Write a function that checks whether a number is even or odd."
   ]
  },
  {
   "cell_type": "code",
   "execution_count": 36,
   "metadata": {},
   "outputs": [
    {
     "name": "stdout",
     "output_type": "stream",
     "text": [
      "3  is odd\n"
     ]
    }
   ],
   "source": [
    "def check_num(a):\n",
    "    if a%2==0:\n",
    "        print(a,\" is even\")\n",
    "    else:\n",
    "        print(a,\" is odd\")\n",
    "\n",
    "check_num(3)"
   ]
  },
  {
   "cell_type": "markdown",
   "metadata": {},
   "source": [
    "4. Write a program that calculates net pay based on gross pay and the following tax breaks:<br>\n",
    "* salary &lt;&equals; &dollar;20,000 : 0%\n",
    "* 20,000 &lt; salary &lt;&equals; &dollar;40,000: 10%\n",
    "* 40,000 &lt; salary &lt;&equals; &dollar;80,000 : 15% \n",
    "* salary &gt; &dollar;80,000: 20%   \n",
    "\n",
    "Please not that for someone making \\\\$90,000, the first \\\\$20,000 is tax free, the next \\\\$20,000 falls in second tax break (10%) and so on. For example, If you make \\\\$50,000, the first \\\\$20,000 is tax free. The next \\\\$20,000, is taxed at 10% which is \\\\$2000. Then income between \\\\$40,000 and \\\\$80,000 is taxed at 15%. There is only \\\\$10,000 that falls into this bracket (\\\\$50,000-\\\\$40,000=\\\\$10,000) which leads to \\\\$1500 in taxes. Total tax is \\\\$3500."
   ]
  },
  {
   "cell_type": "code",
   "execution_count": 80,
   "metadata": {},
   "outputs": [
    {
     "name": "stdout",
     "output_type": "stream",
     "text": [
      "net_pay=46500.0\n"
     ]
    }
   ],
   "source": [
    "def net_pay(salary):\n",
    "    tax_rate=0\n",
    "    \n",
    "    if salary<=20000:\n",
    "        net_pay=salary\n",
    "    elif 20000<salary<=40000:\n",
    "            tax_rate=0.1\n",
    "            net_pay=salary-(salary-20000)*tax_rate\n",
    "    elif 40000<salary<=80000:\n",
    "            tax_rate=0.15\n",
    "            net_pay=salary-(salary-40000)*tax_rate-20000*0.1\n",
    "    else:\n",
    "            tax_rate=0.2\n",
    "            net_pay=salary-(salary-80000)*tax_rate-40000*0.15-20000*0.1\n",
    "    print(f'{net_pay=}')        \n",
    "                    \n",
    "net_pay(50000)"
   ]
  },
  {
   "cell_type": "markdown",
   "metadata": {},
   "source": [
    "5. The time module provides a function, also named time, that returns the current\n",
    "Greenwich Mean Time in “the epoch”, which is an arbitrary time used as a reference point. On\n",
    "UNIX systems, the epoch is 1 January 1970."
   ]
  },
  {
   "cell_type": "code",
   "execution_count": 113,
   "metadata": {},
   "outputs": [
    {
     "data": {
      "text/plain": [
       "1663000637.311898"
      ]
     },
     "execution_count": 113,
     "metadata": {},
     "output_type": "execute_result"
    }
   ],
   "source": [
    "import time\n",
    "total_seconds = time.time()\n",
    "total_seconds #total number of seconds since 1 January 1970"
   ]
  },
  {
   "cell_type": "markdown",
   "metadata": {},
   "source": [
    "Write a script that reads the current time and converts it to a time of day in hours, minutes, and\n",
    "seconds, plus the number of days since the epoch."
   ]
  },
  {
   "cell_type": "code",
   "execution_count": 114,
   "metadata": {},
   "outputs": [
    {
     "name": "stdout",
     "output_type": "stream",
     "text": [
      "a time of day in  16 : 37 : 17\n",
      "since the epoch  19247\n"
     ]
    }
   ],
   "source": [
    "from datetime import date\n",
    "seconds_one_day=60*60*24\n",
    "seconds_one_hour=60*60\n",
    "total_sec=total_seconds%seconds_one_day\n",
    "\n",
    "hours=int(total_sec/seconds_one_hour)\n",
    "total_minutes=int(total_sec/60)\n",
    "mins=total_minutes%60\n",
    "sec=int(total_sec%60)\n",
    "\n",
    "days=int(total_seconds/seconds_one_day)\n",
    "\n",
    "print(\"a time of day in \", hours, \":\", mins,\":\", sec)\n",
    "print(\"since the epoch \",days)"
   ]
  },
  {
   "cell_type": "markdown",
   "metadata": {},
   "source": [
    "6. Fermat’s Last Theorem says that there are no positive integers a, b, and c such that<center><br> a<sup>n</sup>+b<sup>n</sup>=c<sup>n</sup></center><br>for any values greater than 2.<br>\n",
    "Write a function named check_fermat that takes four parameters—a, b, c and n—and checks to see if Fermat’s theorem holds. If n is greater than 2 and a<sup>n</sup>+b<sup>n</sup>=c<sup>n</sup> the program should print, “Holy smokes, Fermat was wrong!” Otherwise the program should\n",
    "print, “No, that doesn’t work.”"
   ]
  },
  {
   "cell_type": "code",
   "execution_count": 118,
   "metadata": {},
   "outputs": [
    {
     "name": "stdout",
     "output_type": "stream",
     "text": [
      "No, that doesn’t work.\n"
     ]
    }
   ],
   "source": [
    "def check_fermat(a,b,c,n):\n",
    "    if n>2 and (a**n + b**n == c**n):\n",
    "        print(\"Holy smokes, Fermat was wrong!\")\n",
    "    else:\n",
    "        print(\"No, that doesn’t work.\")\n",
    "\n",
    "check_fermat(1,2,1,1)\n"
   ]
  },
  {
   "cell_type": "markdown",
   "metadata": {},
   "source": [
    "7. If you are given three sticks, you may or may not be able to arrange them in a triangle.\n",
    "For example, if one of the sticks is 12 inches long and the other two are one inch long, you will not\n",
    "be able to get the short sticks to meet in the middle. For any three lengths, there is a simple test to\n",
    "see if it is possible to form a triangle:<br>\n",
    "If any of the three lengths is greater than the sum of the other two, then you cannot\n",
    "form a triangle. Otherwise, you can. (If the sum of two lengths equals the third, they\n",
    "form what is called a “degenerate” triangle.)<br>\n",
    "Write a function named is_triangle that takes three integers as arguments, and that prints\n",
    "either “Yes” or “No”, depending on whether you can or cannot form a triangle from sticks\n",
    "with the given lengths."
   ]
  },
  {
   "cell_type": "code",
   "execution_count": 120,
   "metadata": {},
   "outputs": [
    {
     "name": "stdout",
     "output_type": "stream",
     "text": [
      "Yes\n",
      "No\n"
     ]
    }
   ],
   "source": [
    "def is_triangle(a,b,c):\n",
    "    if c>(a+b) or b>(a+c)or a>(b+c):\n",
    "        print(\"No\")\n",
    "    else:\n",
    "        print(\"Yes\")\n",
    "        \n",
    "is_triangle(1,2,3)\n",
    "is_triangle(1,2,5)"
   ]
  },
  {
   "cell_type": "markdown",
   "metadata": {},
   "source": [
    "8. Write a function that accepts a month number and returns the number of days in that month."
   ]
  },
  {
   "cell_type": "code",
   "execution_count": 128,
   "metadata": {},
   "outputs": [
    {
     "name": "stdout",
     "output_type": "stream",
     "text": [
      "number of days is 31\n",
      "number of days is 30\n",
      "Wrong month number\n"
     ]
    }
   ],
   "source": [
    "def month_number(a):\n",
    "    if a==1 or a==3 or a==5 or a==7 or a==8 or a==10 or a==12:\n",
    "        print(\"number of days is 31\")\n",
    "    elif a==2:\n",
    "        print(\"number of days is 28 or 29\")\n",
    "    elif a==4 or a==6 or a==9 or a==11:\n",
    "        print(\"number of days is 30\")\n",
    "    else:\n",
    "        print(\"Wrong month number\")    \n",
    "month_number(3)\n",
    "month_number(4)\n",
    "month_number(13)"
   ]
  },
  {
   "cell_type": "code",
   "execution_count": null,
   "metadata": {},
   "outputs": [],
   "source": []
  }
 ],
 "metadata": {
  "kernelspec": {
   "display_name": "Python 3 (ipykernel)",
   "language": "python",
   "name": "python3"
  },
  "language_info": {
   "codemirror_mode": {
    "name": "ipython",
    "version": 3
   },
   "file_extension": ".py",
   "mimetype": "text/x-python",
   "name": "python",
   "nbconvert_exporter": "python",
   "pygments_lexer": "ipython3",
   "version": "3.9.12"
  }
 },
 "nbformat": 4,
 "nbformat_minor": 4
}
